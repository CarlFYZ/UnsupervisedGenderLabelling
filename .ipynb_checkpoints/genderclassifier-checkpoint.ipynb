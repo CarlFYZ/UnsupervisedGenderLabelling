{
 "cells": [
  {
   "cell_type": "code",
   "execution_count": null,
   "metadata": {
    "collapsed": true
   },
   "outputs": [],
   "source": [
    "from genderclassifierfunctions import unzipfile\n",
    "from genderclassifierfunctions import loadjsonfiletolist\n",
    "from genderclassifierfunctions import writecsvfile\n",
    "from genderclassifierfunctions import clean\n",
    "from genderclassifierfunctions import feature_processing\n",
    "from genderclassifierfunctions import feature_selection_classifier_1\n",
    "from genderclassifierfunctions import feature_selection_classifier_2\n",
    "from genderclassifierfunctions import feature_selection_classifier_3\n",
    "from genderclassifierfunctions import kmeans_classification\n",
    "from genderclassifierfunctions import minibatchkmeans_classifier\n",
    "from genderclassifierfunctions import plot3d\n",
    "from genderclassifierfunctions import plot2d\n",
    "from genderclassifierfunctions import dim_red_pca\n",
    "from genderclassifierfunctions import concatenate_result\n",
    "\n",
    "from sklearn.decomposition import PCA\n",
    "\n",
    "unzipfile('test_data.zip','welcometotheiconic')\n",
    "\n",
    "# also removed duplication\n",
    "keys, datalist = loadjsonfiletolist('data.json')\n",
    "\n",
    "# also converted to numpy array\n",
    "dataarray = clean(datalist)\n",
    "\n",
    "# also normalized\n",
    "allfeatures = feature_processing(dataarray)\n",
    "\n",
    "# Classifier 1 - K means\n",
    "featureClassifier1 = feature_selection_classifier_1(allfeatures)\n",
    "result_1_kmeans = kmeans_classification(2, featureClassifier1)\n",
    "\n",
    "# Classifier 2 - K means\n",
    "featureClassifier2 = feature_selection_classifier_2(allfeatures)\n",
    "result_2_kmeans = kmeans_classification(2, featureClassifier2)\n",
    "\n",
    "# Classifier 3 - Mini Batch K means with PCA on all features\n",
    "featureClassifier3 = feature_selection_classifier_3(allfeatures)\n",
    "pcaResult = PCA(n_components=5).fit(featureClassifier3).transform(featureClassifier3)\n",
    "result_3_mbk = minibatchkmeans_classifier(2, featureClassifier3)\n",
    "\n",
    "\n",
    "final_result = (result_1_kmeans + result_1_kmeans + result_3_mbk)\n",
    "final_result = [1 if row > 1 else 0 for row in final_result]\n",
    "\n",
    "# Print result to CSV file for easy read\n",
    "resultkeys, resultdata = concatenate_result( keys,  datalist,  \"gender(female=0)\", final_result)\n",
    "writecsvfile('.\\hatchresultFinal.csv', resultkeys, resultdata)\n",
    "\n",
    "print(sum(final_result))\n",
    "print(final_result[:50])\n",
    "\n",
    "# Plot\n",
    "\n",
    "# plot2d(allfeatures, result_2_kmeans, 4, 15)\n",
    "\n",
    "plot3d(pcaResult, result_3_mbk, 0, 1, 2)\n",
    "\n",
    "# weight of feature analysis\n",
    "pcaRes, e_values, e_vectors = dim_red_pca(allfeatures, 3)\n"
   ]
  },
  {
   "cell_type": "markdown",
   "metadata": {},
   "source": [
    "##Import libraries"
   ]
  },
  {
   "cell_type": "code",
   "execution_count": null,
   "metadata": {},
   "outputs": [],
   "source": []
  }
 ],
 "metadata": {
  "kernelspec": {
   "display_name": "Python 3",
   "language": "python",
   "name": "python3"
  },
  "language_info": {
   "codemirror_mode": {
    "name": "ipython",
    "version": 3
   },
   "file_extension": ".py",
   "mimetype": "text/x-python",
   "name": "python",
   "nbconvert_exporter": "python",
   "pygments_lexer": "ipython3",
   "version": "3.6.3"
  }
 },
 "nbformat": 4,
 "nbformat_minor": 1
}
